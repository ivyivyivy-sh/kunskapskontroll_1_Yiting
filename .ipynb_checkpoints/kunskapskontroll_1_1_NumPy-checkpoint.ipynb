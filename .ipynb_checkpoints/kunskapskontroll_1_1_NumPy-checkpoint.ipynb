{
 "cells": [
  {
   "cell_type": "markdown",
   "id": "dacf74e6",
   "metadata": {},
   "source": [
    "# NumPy"
   ]
  },
  {
   "cell_type": "markdown",
   "id": "01b2bf34",
   "metadata": {},
   "source": [
    "Read the links: https://numpy.org/doc/stable/user/quickstart.html  and https://numpy.org/doc/stable/user/basics.broadcasting.html  before solving the exercises. "
   ]
  },
  {
   "cell_type": "code",
   "execution_count": null,
   "id": "1f79e4a6",
   "metadata": {},
   "outputs": [],
   "source": [
    "import numpy as np"
   ]
  },
  {
   "cell_type": "markdown",
   "id": "7dae6889",
   "metadata": {},
   "source": [
    "### Print out the dimension (number of axes), shape, size and the datatype of the matrix A."
   ]
  },
  {
   "cell_type": "code",
   "execution_count": null,
   "id": "0fe87941-b86f-4f13-8626-5841cbcbc562",
   "metadata": {},
   "outputs": [],
   "source": [
    "A = np.arange(1, 16).reshape(3,5)"
   ]
  },
  {
   "cell_type": "code",
   "execution_count": 11,
   "id": "31d39235",
   "metadata": {},
   "outputs": [
    {
     "name": "stdout",
     "output_type": "stream",
     "text": [
      "Matrix A:\n",
      " [[ 1  2  3  4  5]\n",
      " [ 6  7  8  9 10]\n",
      " [11 12 13 14 15]]\n",
      "Dimensions: 2\n",
      "Shape: (3, 5)\n",
      "Size: 15\n",
      "Datatype: int64\n"
     ]
    }
   ],
   "source": [
    "import numpy as np\n",
    "A = np.arange(1, 16).reshape(3,5)\n",
    "\n",
    "print(\"Matrix A:\\n\", A)\n",
    "print(\"Dimensions:\", A.ndim)\n",
    "print(\"Shape:\", A.shape)\n",
    "print(\"Size:\", A.size)\n",
    "print(\"Datatype:\", A.dtype)"
   ]
  },
  {
   "cell_type": "markdown",
   "id": "2841d0e2-41cb-4487-ab49-8bf6d99ff1b3",
   "metadata": {},
   "source": [
    "### Do the following computations on the matrices B and C: \n",
    "* Elementwise subtraction. \n",
    "* Elementwise multiplication. \n",
    "* Matrix multiplication (by default you should use the @ operator)."
   ]
  },
  {
   "cell_type": "code",
   "execution_count": null,
   "id": "a7053fbb",
   "metadata": {},
   "outputs": [],
   "source": [
    "B = np.arange(1, 10).reshape(3, 3)\n",
    "C = np.ones((3, 3))*2\n",
    "\n",
    "print(B)\n",
    "print()\n",
    "print(C)"
   ]
  },
  {
   "cell_type": "code",
   "execution_count": 11,
   "id": "3cd794ae",
   "metadata": {},
   "outputs": [
    {
     "name": "stdout",
     "output_type": "stream",
     "text": [
      "[[1 2 3]\n",
      " [4 5 6]\n",
      " [7 8 9]]\n",
      "\n",
      "[[2. 2. 2.]\n",
      " [2. 2. 2.]\n",
      " [2. 2. 2.]]\n",
      "\n",
      " subtraction (B - C):\n",
      "[[-1.  0.  1.]\n",
      " [ 2.  3.  4.]\n",
      " [ 5.  6.  7.]]\n",
      "\n",
      " multiplication (B * C):\n",
      "[[ 2.  4.  6.]\n",
      " [ 8. 10. 12.]\n",
      " [14. 16. 18.]]\n",
      "\n",
      "Matrix Multiplication (B @ C):\n",
      "[[12. 12. 12.]\n",
      " [30. 30. 30.]\n",
      " [48. 48. 48.]]\n"
     ]
    }
   ],
   "source": [
    "import numpy as np\n",
    "B = np.arange(1, 10).reshape(3, 3)\n",
    "C = np.ones((3, 3))*2\n",
    "\n",
    "print(B)\n",
    "print()\n",
    "print(C)\n",
    "\n",
    "subtraction = B - C\n",
    "multiplication = B * C\n",
    "matrix_multiplication = B @ C\n",
    "\n",
    "print(\"\\n subtraction (B - C):\")\n",
    "print(subtraction)\n",
    "\n",
    "print(\"\\n multiplication (B * C):\")\n",
    "print(multiplication)\n",
    "\n",
    "print(\"\\nMatrix Multiplication (B @ C):\")\n",
    "print(matrix_multiplication)"
   ]
  },
  {
   "cell_type": "markdown",
   "id": "96030d53",
   "metadata": {},
   "source": [
    "### Do the following calculations on the matrix:\n",
    "* Exponentiate each number elementwise (use the np.exp function).\n",
    "\n",
    "* Calculate the minimum value in the whole matrix. \n",
    "* Calculcate the minimum value in each row. \n",
    "* Calculcate the minimum value in each column. \n",
    "\n",
    "\n",
    "* Find the index value for the minimum value in the whole matrix (hint: use np.argmin).\n",
    "* Find the index value for the minimum value in each row (hint: use np.argmin).\n",
    "\n",
    "\n",
    "* Calculate the sum for all elements.\n",
    "* Calculate the mean for each column. \n",
    "* Calculate the median for each column. "
   ]
  },
  {
   "cell_type": "markdown",
   "id": "bc013f50-3c21-481d-809c-ae2fe3063eb0",
   "metadata": {},
   "source": [
    "### Do the following calculations on the matrix:\n",
    "* Exponentiate each number elementwise (use the np.exp function).\n",
    "\n",
    "* Calculate the minimum value in the whole matrix. \n",
    "* Calculcate the minimum value in each row. \n",
    "* Calculcate the minimum value in each column. \n",
    "\n",
    "\n",
    "* Find the index value for the minimum value in the whole matrix (hint: use np.argmin).\n",
    "* Find the index value for the minimum value in each row (hint: use np.argmin).\n",
    "\n",
    "\n",
    "* Calculate the sum for all elements.\n",
    "* Calculate the mean for each column. \n",
    "* Calculate the median for each column. "
   ]
  },
  {
   "cell_type": "code",
   "execution_count": null,
   "id": "f8a9166b",
   "metadata": {},
   "outputs": [],
   "source": [
    "B = np.arange(1, 10).reshape(3, 3)\n",
    "print(B)"
   ]
  },
  {
   "cell_type": "code",
   "execution_count": 26,
   "id": "f03f24f7",
   "metadata": {},
   "outputs": [
    {
     "name": "stdout",
     "output_type": "stream",
     "text": [
      "[[1 2 3]\n",
      " [4 5 6]\n",
      " [7 8 9]]\n",
      "\n",
      "Exponentiated matrix:\n",
      "[[2.71828183e+00 7.38905610e+00 2.00855369e+01]\n",
      " [5.45981500e+01 1.48413159e+02 4.03428793e+02]\n",
      " [1.09663316e+03 2.98095799e+03 8.10308393e+03]]\n",
      "\n",
      "Minimum value in the matrix:\n",
      "1\n",
      "\n",
      "Minimum value in each row:\n",
      "[1 4 7]\n",
      "\n",
      "Minimum value in each column:\n",
      "[1 2 3]\n",
      "\n",
      "Index of the minimum value in the matrix:\n",
      "0\n",
      "\n",
      "Index of the minimum value in each row:\n",
      "[0 0 0]\n",
      "\n",
      "Sum of all elements in the matrix:\n",
      "45\n",
      "\n",
      "Mean of each column:\n",
      "[4. 5. 6.]\n",
      "\n",
      "Median of each column:\n",
      "[4. 5. 6.]\n"
     ]
    }
   ],
   "source": [
    "import numpy as np\n",
    "B = np.arange(1, 10).reshape(3, 3)\n",
    "print(B)\n",
    "\n",
    "exp_B = np.exp(B)\n",
    "print(\"\\nExponentiated matrix:\")\n",
    "print(exp_B)\n",
    "\n",
    "min_B = np.min(B)\n",
    "print(\"\\nMinimum value in the matrix:\")\n",
    "print(min_B)\n",
    "\n",
    "min_in_rows = np.min(B,axis=1)\n",
    "print(\"\\nMinimum value in each row:\")\n",
    "print(min_in_rows)\n",
    "\n",
    "min_in_columns = np.min(B,axis=0)\n",
    "print(\"\\nMinimum value in each column:\")\n",
    "print(min_in_columns)\n",
    "\n",
    "min_index = np.argmin(B)\n",
    "print(\"\\nIndex of the minimum value in the matrix:\")\n",
    "print(min_index)\n",
    "\n",
    "min_indices_in_rows = np.argmin(B, axis=1)\n",
    "print(\"\\nIndex of the minimum value in each row:\")\n",
    "print(min_indices_in_rows)\n",
    "\n",
    "total_sum = np.sum(B)\n",
    "print(\"\\nSum of all elements in the matrix:\")\n",
    "print(total_sum)\n",
    "\n",
    "mean_columns = np.mean(B, axis=0)\n",
    "print(\"\\nMean of each column:\")\n",
    "print(mean_columns)\n",
    "\n",
    "median_columns = np.median(B, axis=0)\n",
    "print(\"\\nMedian of each column:\")\n",
    "print(median_columns)\n"
   ]
  },
  {
   "cell_type": "markdown",
   "id": "541eb7ba",
   "metadata": {},
   "source": [
    "### What does it mean when you provide fewer indices than axes when slicing? See example below."
   ]
  },
  {
   "cell_type": "code",
   "execution_count": null,
   "id": "9c8abf56",
   "metadata": {},
   "outputs": [],
   "source": [
    "print(A)"
   ]
  },
  {
   "cell_type": "code",
   "execution_count": null,
   "id": "69415f7b",
   "metadata": {},
   "outputs": [],
   "source": [
    "A[1]"
   ]
  },
  {
   "cell_type": "markdown",
   "id": "a1e38752-47de-46f8-bc75-fd0592b959bb",
   "metadata": {},
   "source": [
    "**Answer:**"
   ]
  },
  {
   "cell_type": "code",
   "execution_count": null,
   "id": "a11fefec-2c58-4653-8dc1-26cacc557b4f",
   "metadata": {},
   "outputs": [],
   "source": [
    "When you provide fewer indices than the dimensions of the array:\n",
    "\n",
    "* NumPy interprets the missing indices as : (select all) for those dimensions.\n",
    "* In the example above A[1] is equivalent to A[1, :]. This returns a sub-array that includes all elements along the unspecified axes."
   ]
  },
  {
   "cell_type": "markdown",
   "id": "05b8ecc1-c19e-4b04-a441-c47bfdd007a4",
   "metadata": {},
   "source": [
    "### Iterating over multidimensional arrays is done with respect to the first axis, so in the example below we iterate trough the rows. If you would like to iterate through the array *elementwise*, how would you do that?"
   ]
  },
  {
   "cell_type": "code",
   "execution_count": null,
   "id": "9459864f",
   "metadata": {},
   "outputs": [],
   "source": [
    "A"
   ]
  },
  {
   "cell_type": "code",
   "execution_count": null,
   "id": "a671bb5a",
   "metadata": {},
   "outputs": [],
   "source": [
    "for i in A:\n",
    "    print(i)"
   ]
  },
  {
   "cell_type": "code",
   "execution_count": 34,
   "id": "f4e443a0",
   "metadata": {},
   "outputs": [
    {
     "name": "stdout",
     "output_type": "stream",
     "text": [
      "1\n",
      "2\n",
      "3\n",
      "4\n",
      "5\n",
      "6\n",
      "7\n",
      "8\n",
      "9\n"
     ]
    }
   ],
   "source": [
    "flat attribute is an iterator over all the elements of the array\n",
    "\n",
    "import numpy as np\n",
    "\n",
    "A = np.arange(1, 10).reshape(3,3)\n",
    "\n",
    "for i in A.flat:\n",
    "    print(i)"
   ]
  },
  {
   "cell_type": "markdown",
   "id": "a2b827e3-0a1c-4fe9-8494-19b7c8530237",
   "metadata": {},
   "source": [
    "### Explain what the code below does. More specifically, b has three axes - what does this mean? "
   ]
  },
  {
   "cell_type": "code",
   "execution_count": 35,
   "id": "f8f9b26f",
   "metadata": {},
   "outputs": [
    {
     "name": "stdout",
     "output_type": "stream",
     "text": [
      "[ 0  1  2  3  4  5  6  7  8  9 10 11 12 13 14 15 16 17 18 19 20 21 22 23\n",
      " 24 25 26 27 28 29]\n",
      "\n",
      "[[[ 0  1  2  3  4]\n",
      "  [ 5  6  7  8  9]\n",
      "  [10 11 12 13 14]]\n",
      "\n",
      " [[15 16 17 18 19]\n",
      "  [20 21 22 23 24]\n",
      "  [25 26 27 28 29]]]\n"
     ]
    }
   ],
   "source": [
    "a = np.arange(30)\n",
    "b = a.reshape((2, 3, -1))\n",
    "print(a)\n",
    "print()\n",
    "\n",
    "print(b)"
   ]
  },
  {
   "cell_type": "code",
   "execution_count": null,
   "id": "863a45df",
   "metadata": {},
   "outputs": [],
   "source": [
    "1. np.arange(30) creates a 1D array a with 30 elements, ranging from 0 to 29.\n",
    "2. The reshape((2, 3, -1)) command reshapes a into a 3D array b with three axes.The shape (2, 3, -1) means:\n",
    "** 2: The first dimension (axis 0) will have 2 \"blocks\".\n",
    "** 3: The second dimension (axis 1) will have 3 \"rows\" within each block.\n",
    "** -1: The third dimension (axis 2) is inferred by NumPy. It will be calculated to fit the total number of elements (30) into the specified shape.\n",
    "3. When we print b, we get a 3D array where each \"block\" has 3 rows and 5 columns"
   ]
  },
  {
   "cell_type": "markdown",
   "id": "ab5933d5",
   "metadata": {},
   "source": [
    "### Broadcasting\n",
    "**Read the following link about broadcasting: https://numpy.org/doc/stable/user/basics.broadcasting.html#basics-broadcasting**"
   ]
  },
  {
   "cell_type": "markdown",
   "id": "039805ba",
   "metadata": {},
   "source": [
    "# Remark on Broadcasting when doing Linear Algebra calculations in Python. "
   ]
  },
  {
   "cell_type": "markdown",
   "id": "c4bcc147",
   "metadata": {},
   "source": [
    "### From the mathematical rules of matrix addition, the operation below (m1 + m2) does not make sense. The reason is that matrix addition requires two matrices of the same size. In Python however, it works due to broadcasting rules in NumPy. So you must be careful when doing Linear Algebra calculations in Python since they do not follow the \"mathematical rules\". This can however easily be handled by doing some simple programming, for example validating that two matrices have the same shape is easy if you for instance want to add two matrices. "
   ]
  },
  {
   "cell_type": "code",
   "execution_count": 2,
   "id": "1fd46778",
   "metadata": {},
   "outputs": [
    {
     "name": "stdout",
     "output_type": "stream",
     "text": [
      "[[2 3]\n",
      " [4 5]]\n"
     ]
    }
   ],
   "source": [
    "import numpy as np\n",
    "m1 = np.array([[1, 2], [3, 4]])\n",
    "m2 = np.array([1, 1])\n",
    "print(m1 + m2)"
   ]
  },
  {
   "cell_type": "markdown",
   "id": "047d6576",
   "metadata": {},
   "source": [
    "### The example below would also not be allowed if following the \"mathematical rules\" in Linear Algebra. But it works due to broadcasting in NumPy. "
   ]
  },
  {
   "cell_type": "code",
   "execution_count": 3,
   "id": "5e6ef2e4",
   "metadata": {},
   "outputs": [
    {
     "name": "stdout",
     "output_type": "stream",
     "text": [
      "[2 3 4]\n"
     ]
    }
   ],
   "source": [
    "import numpy as np\n",
    "\n",
    "v1 = np.array([1, 2, 3])\n",
    "print(v1 + 1)"
   ]
  },
  {
   "cell_type": "code",
   "execution_count": 4,
   "id": "e2cbae26",
   "metadata": {},
   "outputs": [
    {
     "name": "stdout",
     "output_type": "stream",
     "text": [
      "[[1 2]\n",
      " [3 4]]\n",
      "[2 2]\n"
     ]
    }
   ],
   "source": [
    "import numpy as np\n",
    "\n",
    "A = np.arange(1, 5).reshape(2,2)\n",
    "print(A)\n",
    "\n",
    "b = np.array([2, 2])\n",
    "print(b)"
   ]
  },
  {
   "cell_type": "markdown",
   "id": "722fd5cd",
   "metadata": {},
   "source": [
    "# Vector- and matrix algebra Exercises"
   ]
  },
  {
   "cell_type": "markdown",
   "id": "b63a3081-d976-4d9f-bfd0-a63917e79f7d",
   "metadata": {},
   "source": [
    "**Now you are going to create a function that can be reused every time you add or multiply matrices. The function is created so that we do the addition and multiplication according to the rules of vector- and matrix algebra.**\n",
    "\n",
    "**Create a function \"add_mult_matrices\" that takes two matrices as input arguments (validate that the input are of the type numpy.ndarray by using the isinstance function), a third argument that is either 'add' or 'multiply' that specifies if you want to add or multiply the matrices (validate that the third argument is either 'add' or 'multiply'). When doing matrix addition, validate that the matrices have the same size. When doing matrix multiplication, validate that the sizes conform (i.e. number of columns in the first matrix is equal to the number of rows in the second matrix).**"
   ]
  },
  {
   "cell_type": "code",
   "execution_count": 11,
   "id": "3506f977-ac0a-473f-85bc-eec9f35dc498",
   "metadata": {},
   "outputs": [
    {
     "name": "stdout",
     "output_type": "stream",
     "text": [
      "[[ 6  8]\n",
      " [10 12]]\n"
     ]
    }
   ],
   "source": [
    "import numpy as np\n",
    "\n",
    "def add_mult_matrices(matrix1, matrix2, operation):\n",
    "    if not isinstance(matrix1, np.ndarray) or not isinstance(matrix2, np.ndarray):\n",
    "        raise TypeError(\"Both inputs must be of type numpy.ndarray.\")\n",
    "    \n",
    "    if operation not in ('add', 'multiply'):\n",
    "        raise ValueError(\"The operation must be either 'add' or 'multiply'.\")\n",
    "    \n",
    "    if operation == 'add':\n",
    "        if matrix1.shape != matrix2.shape:\n",
    "            raise ValueError(\"For addition, both matrices must have the same shape.\")\n",
    "        return matrix1 + matrix2\n",
    "    \n",
    "    elif operation == 'multiply':\n",
    "        if matrix1.shape[1] != matrix2.shape[0]:\n",
    "            raise ValueError(\"For multiplication, the number of columns in the first matrix must equal the number of rows in the second matrix.\")\n",
    "        return matrix1 @ matrix2\n",
    "\n",
    "m1 = np.array([[1, 2], [3, 4]])\n",
    "m2 = np.array([[5, 6], [7, 8]])\n",
    "\n",
    "print(add_mult_matrices(m1, m2, 'add'))"
   ]
  },
  {
   "cell_type": "markdown",
   "id": "8dad82d0-2359-4dff-8f5b-a57d3e34103c",
   "metadata": {},
   "source": [
    "### Solve all the exercises in chapter 10.1 in the book \"Matematik för yrkeshögskolan\". "
   ]
  },
  {
   "cell_type": "code",
   "execution_count": null,
   "id": "89df88af-3668-4d98-a0a4-e6d92eea0f89",
   "metadata": {},
   "outputs": [],
   "source": [
    "10.1.1\n",
    "a) The dimension is 2\n",
    "b) 5x=5⋅(4,3)=(20,15)\n",
    "c) 3x=3⋅(4,3)=(12,9)\n",
    "d) 5x+3x=(20,15)+(12,9)=(32,24)\n",
    "e) 8x=8⋅(4,3)=(32,24)\n",
    "f) 4x−x=(4⋅(4,3))−(4,3)=(16,12)−(4,3)=(12,9)\n",
    "g) The transpose of x (a row vector) becomes a column vector with the same dimension (2).\n",
    "h) No,the 2 vectors have different shapes\n",
    "i) ∥x∥= (4^2+ 3^2)^(1/2) = 5\n",
    "\n",
    "10.1.2\n",
    "a) The dimension is 4.\n",
    "b) 2v= [[6,\n",
    "         14,\n",
    "         0,\n",
    "         22]]\n",
    "c) 5v+2v=7v = [[21,\n",
    "                49,\n",
    "                0,\n",
    "                77]]\n",
    "\n",
    "d) 4v−2v=2v = [[6,\n",
    "               14,\n",
    "               0,\n",
    "               22]]\n",
    "e) Transposing v changes it from a 4x1 column vector to a 1x4 row vector. \n",
    "f) ∥v∥ = (3^2+ 7^2 + 0^2 + 11^2)^(1/2) ≈ 13.38\n",
    "\n",
    "10.1.3\n",
    "a) ∥v1∥ = (4^2+ 3^2 + 1^2 + 5^2)^(1/2) ≈ 7.14\n",
    "b) ∥v1-v2∥ = (2^2+ 0^2 + 0^2 + 4^2)^(1/2) ≈ 4.47\n",
    "\n"
   ]
  },
  {
   "cell_type": "markdown",
   "id": "75c98984-1f88-4df1-b850-d2466de444a5",
   "metadata": {},
   "source": [
    "### Solve all the exercises, except 10.2.4, in chapter 10.2 in the book \"Matematik för yrkeshögskolan\". "
   ]
  },
  {
   "cell_type": "code",
   "execution_count": null,
   "id": "65371610-16e1-48b2-b7fb-65e49002608a",
   "metadata": {},
   "outputs": [],
   "source": [
    "10.2.1\n",
    "a) [[ 4  2]\n",
    "    [-2  2]]\n",
    "b) [[ 4  -2]  - [[ 4  2] = [[ 0  -2]\n",
    "    [-4  -2]]    [-2  2]]   [-2  -4]]\n",
    "c) [[-1  6]\n",
    "    [4   3]]\n",
    "d) [[3  0]\n",
    "    [2  3]]\n",
    "e) [[9  10]\n",
    "    [11  9]]\n",
    "f) [[-4  -2]\n",
    "    [-4  -4]]\n",
    "g) [[-2  1]\n",
    "    [5   3]]\n",
    "h) [[4  5]\n",
    "    [1 -1]]\n",
    "i) [[11  9]\n",
    "    [10  9]]\n",
    "k) [[1  2]\n",
    "    [2  1]]\n",
    "l) [[6  -10]\n",
    "    [-6   2]]\n",
    "\n",
    "\n",
    "10.2.2\n",
    "AT= [[[2  5]\n",
    "      [3  4]\n",
    "      [4  1]]\n",
    "\n",
    "AAT = (2⋅2+3⋅3+4⋅4,2⋅5+3⋅4+4⋅1) = (29,26)\n",
    "      (5⋅2+4⋅3+1⋅4,5⋅5+4⋅4+1⋅1) =(26,42)\n",
    "\n",
    "AAT = [[29  26]\n",
    "       [26  42]]\n",
    "\n",
    "10.2.3\n",
    "AB= [[4  7]\n",
    "     [8  14]]\n",
    "\n",
    "AC= [[4  7]\n",
    "     [8  14]]\n",
    "However, matrices B and C are different\n",
    "Thus, AB=AC but B is not equal to C\n"
   ]
  },
  {
   "cell_type": "markdown",
   "id": "6a4a524f",
   "metadata": {},
   "source": [
    "### Copies and Views\n",
    "Read the following link: https://numpy.org/doc/stable/user/basics.copies.html"
   ]
  },
  {
   "cell_type": "markdown",
   "id": "6cbbeaf7",
   "metadata": {},
   "source": [
    "**Basic indexing creates a view, How can you check if v1 and v2 is a view or copy? If you change the last element in v2 to 123, will the last element in v1 be changed? Why?**"
   ]
  },
  {
   "cell_type": "code",
   "execution_count": 16,
   "id": "5b9ef4df",
   "metadata": {},
   "outputs": [
    {
     "name": "stdout",
     "output_type": "stream",
     "text": [
      "[0 1 2 3]\n",
      "[2 3]\n",
      "True\n"
     ]
    }
   ],
   "source": [
    "import numpy as np\n",
    "\n",
    "v1 = np.arange(4)\n",
    "v2 = v1[-2:]\n",
    "print(v1)\n",
    "print(v2)\n",
    "\n",
    "print(np.shares_memory(v1, v2))"
   ]
  },
  {
   "cell_type": "code",
   "execution_count": 13,
   "id": "d2440489",
   "metadata": {},
   "outputs": [
    {
     "name": "stdout",
     "output_type": "stream",
     "text": [
      "None\n",
      "[0 1 2 3]\n"
     ]
    }
   ],
   "source": [
    "import numpy as np\n",
    "\n",
    "# The base attribute of a view returns the original array while it returns None for a copy.\n",
    "print(v1.base)\n",
    "print(v2.base)"
   ]
  },
  {
   "cell_type": "code",
   "execution_count": 14,
   "id": "c8752807",
   "metadata": {},
   "outputs": [
    {
     "name": "stdout",
     "output_type": "stream",
     "text": [
      "[  0   1   2 123]\n",
      "[  2 123]\n"
     ]
    }
   ],
   "source": [
    "import numpy as np\n",
    "\n",
    "# The last element in v1 will be changed aswell since v2 is a view, meaning they share the same data buffer.\n",
    "v2[-1] = 123\n",
    "print(v1)\n",
    "print(v2)"
   ]
  },
  {
   "cell_type": "code",
   "execution_count": null,
   "id": "3dd68221",
   "metadata": {},
   "outputs": [],
   "source": [
    "in step 1: np.shares_memory(v1, v2) returns True, so v2 is a view of v1\n",
    "in step 3: Since v2 is a view of v1, modifying v2 will indeed change v1. After changing the last element of v2 to 123, the last element of v1 is also updated to 123. This is because v1 and v2 are referencing the same memory location for the sliced part.\n"
   ]
  }
 ],
 "metadata": {
  "kernelspec": {
   "display_name": "Python 3 (ipykernel)",
   "language": "python",
   "name": "python3"
  },
  "language_info": {
   "codemirror_mode": {
    "name": "ipython",
    "version": 3
   },
   "file_extension": ".py",
   "mimetype": "text/x-python",
   "name": "python",
   "nbconvert_exporter": "python",
   "pygments_lexer": "ipython3",
   "version": "3.12.5"
  }
 },
 "nbformat": 4,
 "nbformat_minor": 5
}
